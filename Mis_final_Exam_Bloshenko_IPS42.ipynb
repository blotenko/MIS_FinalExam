{
 "cells": [
  {
   "cell_type": "code",
   "execution_count": 1,
   "id": "6bcf36ed",
   "metadata": {},
   "outputs": [
    {
     "name": "stdout",
     "output_type": "stream",
     "text": [
      "Gender Distribution:\n",
      "Gender\n",
      "female    15424\n",
      "male      15217\n",
      "Name: count, dtype: int64\n",
      "\n",
      "Gender Percentages:\n",
      "Gender\n",
      "female    50.337783\n",
      "male      49.662217\n",
      "Name: count, dtype: float64\n"
     ]
    }
   ],
   "source": [
    "import pandas as pd\n",
    "\n",
    "# Read the dataset\n",
    "data = pd.read_csv(\"/Users/blotenko/Downloads/Expanded_data_with_more_features.csv\")\n",
    "\n",
    "# Analyze gender distribution\n",
    "gender_counts = data[\"Gender\"].value_counts()\n",
    "gender_percentages = gender_counts / len(data) * 100\n",
    "\n",
    "# Print results\n",
    "print(\"Gender Distribution:\")\n",
    "print(gender_counts)\n",
    "print(\"\\nGender Percentages:\")\n",
    "print(gender_percentages)"
   ]
  },
  {
   "cell_type": "code",
   "execution_count": 2,
   "id": "51974c2a",
   "metadata": {},
   "outputs": [
    {
     "name": "stdout",
     "output_type": "stream",
     "text": [
      "   Unnamed: 0  Gender EthnicGroup          ParentEduc     LunchType  \\\n",
      "0           0  female         NaN   bachelor's degree      standard   \n",
      "1           1  female     group C        some college      standard   \n",
      "2           2  female     group B     master's degree      standard   \n",
      "3           3    male     group A  associate's degree  free/reduced   \n",
      "4           4    male     group C        some college      standard   \n",
      "5           5  female     group B  associate's degree      standard   \n",
      "6           6  female     group B        some college      standard   \n",
      "7           7    male     group B        some college  free/reduced   \n",
      "8           8    male     group D         high school  free/reduced   \n",
      "9           9  female     group B         high school  free/reduced   \n",
      "\n",
      "    TestPrep ParentMaritalStatus PracticeSport IsFirstChild  NrSiblings  \\\n",
      "0       none             married     regularly          yes         3.0   \n",
      "1        NaN             married     sometimes          yes         0.0   \n",
      "2       none              single     sometimes          yes         4.0   \n",
      "3       none             married         never           no         1.0   \n",
      "4       none             married     sometimes          yes         0.0   \n",
      "5       none             married     regularly          yes         1.0   \n",
      "6  completed             widowed         never           no         1.0   \n",
      "7       none             married     sometimes          yes         1.0   \n",
      "8  completed              single     sometimes           no         3.0   \n",
      "9       none             married     regularly          yes         NaN   \n",
      "\n",
      "  TransportMeans WklyStudyHours  MathScore  ReadingScore  WritingScore  \n",
      "0     school_bus            < 5         71            71            74  \n",
      "1            NaN         5 - 10         69            90            88  \n",
      "2     school_bus            < 5         87            93            91  \n",
      "3            NaN         5 - 10         45            56            42  \n",
      "4     school_bus         5 - 10         76            78            75  \n",
      "5     school_bus         5 - 10         73            84            79  \n",
      "6        private         5 - 10         85            93            89  \n",
      "7        private           > 10         41            43            39  \n",
      "8        private           > 10         65            64            68  \n",
      "9        private            < 5         37            59            50  \n"
     ]
    }
   ],
   "source": [
    "print(data.head(10))"
   ]
  },
  {
   "cell_type": "code",
   "execution_count": 3,
   "id": "3dc4764c",
   "metadata": {},
   "outputs": [
    {
     "name": "stdout",
     "output_type": "stream",
     "text": [
      "<class 'pandas.core.frame.DataFrame'>\n",
      "RangeIndex: 30641 entries, 0 to 30640\n",
      "Data columns (total 15 columns):\n",
      " #   Column               Non-Null Count  Dtype  \n",
      "---  ------               --------------  -----  \n",
      " 0   Unnamed: 0           30641 non-null  int64  \n",
      " 1   Gender               30641 non-null  object \n",
      " 2   EthnicGroup          28801 non-null  object \n",
      " 3   ParentEduc           28796 non-null  object \n",
      " 4   LunchType            30641 non-null  object \n",
      " 5   TestPrep             28811 non-null  object \n",
      " 6   ParentMaritalStatus  29451 non-null  object \n",
      " 7   PracticeSport        30010 non-null  object \n",
      " 8   IsFirstChild         29737 non-null  object \n",
      " 9   NrSiblings           29069 non-null  float64\n",
      " 10  TransportMeans       27507 non-null  object \n",
      " 11  WklyStudyHours       29686 non-null  object \n",
      " 12  MathScore            30641 non-null  int64  \n",
      " 13  ReadingScore         30641 non-null  int64  \n",
      " 14  WritingScore         30641 non-null  int64  \n",
      "dtypes: float64(1), int64(4), object(10)\n",
      "memory usage: 3.5+ MB\n"
     ]
    }
   ],
   "source": [
    "data.info()"
   ]
  },
  {
   "cell_type": "code",
   "execution_count": 4,
   "id": "5bbc38d1",
   "metadata": {},
   "outputs": [],
   "source": [
    "df = pd.DataFrame(data)"
   ]
  },
  {
   "cell_type": "code",
   "execution_count": 5,
   "id": "995e2ff8",
   "metadata": {},
   "outputs": [
    {
     "name": "stdout",
     "output_type": "stream",
     "text": [
      "4. Яка етнічна група має найвищий середній бал з математики?\n",
      "group E with an average score of 75.30\n",
      "\n",
      "5. Яка етнічна група має найвищий середній бал читання?\n",
      "group E with an average score of 74.25\n",
      "\n",
      "6. Яка етнічна група має найвищий середній бал письма?\n",
      "group E with an average score of 72.68\n"
     ]
    }
   ],
   "source": [
    "# Find ethnic group with highest average math score\n",
    "highest_math_group = df.groupby('EthnicGroup')['MathScore'].mean().idxmax()\n",
    "highest_math_score = df.groupby('EthnicGroup')['MathScore'].mean().max()\n",
    "\n",
    "# Find ethnic group with highest average reading score\n",
    "highest_reading_group = df.groupby('EthnicGroup')['ReadingScore'].mean().idxmax()\n",
    "highest_reading_score = df.groupby('EthnicGroup')['ReadingScore'].mean().max()\n",
    "\n",
    "# Find ethnic group with highest average writing score\n",
    "highest_writing_group = df.groupby('EthnicGroup')['WritingScore'].mean().idxmax()\n",
    "highest_writing_score = df.groupby('EthnicGroup')['WritingScore'].mean().max()\n",
    "\n",
    "# Print results\n",
    "print(\"4. Яка етнічна група має найвищий середній бал з математики?\")\n",
    "print(f\"{highest_math_group} with an average score of {highest_math_score:.2f}\")\n",
    "\n",
    "print(\"\\n5. Яка етнічна група має найвищий середній бал читання?\")\n",
    "print(f\"{highest_reading_group} with an average score of {highest_reading_score:.2f}\")\n",
    "\n",
    "print(\"\\n6. Яка етнічна група має найвищий середній бал письма?\")\n",
    "print(f\"{highest_writing_group} with an average score of {highest_writing_score:.2f}\")"
   ]
  },
  {
   "cell_type": "code",
   "execution_count": 6,
   "id": "9a7f1d03",
   "metadata": {},
   "outputs": [
    {
     "name": "stdout",
     "output_type": "stream",
     "text": [
      "Середній бал з математики для студентів, які закінчили курс підготовки до тесту: 69.5466599698644\n",
      "Середній бал з читання для студентів, які пройшли курс підготовки до тесту: 73.73299849321948\n",
      "Середній бал з письма для студентів, які закінчили курс підготовки до тесту: 74.70326469111\n"
     ]
    }
   ],
   "source": [
    "math_prep_mean = df[df['TestPrep'] == 'completed']['MathScore'].mean()\n",
    "\n",
    "reading_prep_mean = df[df['TestPrep'] == 'completed']['ReadingScore'].mean()\n",
    "writing_prep_mean = df[df['TestPrep'] == 'completed']['WritingScore'].mean()\n",
    "\n",
    "print(\"Середній бал з математики для студентів, які закінчили курс підготовки до тесту:\", math_prep_mean)\n",
    "print(\"Середній бал з читання для студентів, які пройшли курс підготовки до тесту:\", reading_prep_mean)\n",
    "print(\"Середній бал з письма для студентів, які закінчили курс підготовки до тесту:\", writing_prep_mean)"
   ]
  },
  {
   "cell_type": "code",
   "execution_count": 8,
   "id": "99d4794c",
   "metadata": {},
   "outputs": [
    {
     "name": "stdout",
     "output_type": "stream",
     "text": [
      "Кількість студентів з одруженими батьками: 16844\n",
      "Кількість студентів з батьками-одинаками: 7097\n"
     ]
    }
   ],
   "source": [
    "married_parents_count = df[df['ParentMaritalStatus'] == 'married']['ParentMaritalStatus'].count()\n",
    "\n",
    "single_parents_count = df[df['ParentMaritalStatus'] == 'single']['ParentMaritalStatus'].count()\n",
    "\n",
    "print(\"Кількість студентів з одруженими батьками:\", married_parents_count)\n",
    "print(\"Кількість студентів з батьками-одинаками:\", single_parents_count)"
   ]
  },
  {
   "cell_type": "code",
   "execution_count": 9,
   "id": "ec9ac34b",
   "metadata": {},
   "outputs": [
    {
     "name": "stdout",
     "output_type": "stream",
     "text": [
      "Середній бал з математики для студентів, які регулярно займаються спортом: 67.83915500787548\n",
      "Середній бал з математики для студентів, які ніколи не займалися спортом: 64.17107892107892\n",
      "Середній бал з читання для студентів, які регулярно займаються спортом: 69.94301862318169\n",
      "Середній бал з читання для студентів, які ніколи не займалися спортом: 68.33766233766234\n"
     ]
    }
   ],
   "source": [
    "math_sport_mean = df[df['PracticeSport'] == 'regularly']['MathScore'].mean()\n",
    "\n",
    "math_no_sport_mean = df[df['PracticeSport'] == 'never']['MathScore'].mean()\n",
    "\n",
    "reading_sport_mean = df[df['PracticeSport'] == 'regularly']['ReadingScore'].mean()\n",
    "\n",
    "reading_no_sport_mean = df[df['PracticeSport'] == 'never']['ReadingScore'].mean()\n",
    "\n",
    "print(\"Середній бал з математики для студентів, які регулярно займаються спортом:\", math_sport_mean)\n",
    "print(\"Середній бал з математики для студентів, які ніколи не займалися спортом:\", math_no_sport_mean)\n",
    "print(\"Середній бал з читання для студентів, які регулярно займаються спортом:\", reading_sport_mean)\n",
    "print(\"Середній бал з читання для студентів, які ніколи не займалися спортом:\", reading_no_sport_mean)"
   ]
  },
  {
   "cell_type": "code",
   "execution_count": 10,
   "id": "fbc3ac41",
   "metadata": {},
   "outputs": [
    {
     "name": "stdout",
     "output_type": "stream",
     "text": [
      "Кількість учнів, які користуються шкільним автобусом: 16145\n",
      "Кількість учнів, які користуються приватним транспортом: 11362\n"
     ]
    }
   ],
   "source": [
    "school_bus_count = df[df['TransportMeans'] == 'school_bus']['TransportMeans'].count()\n",
    "\n",
    "private_transport_count = df[df['TransportMeans'] == 'private']['TransportMeans'].count()\n",
    "\n",
    "print(\"Кількість учнів, які користуються шкільним автобусом:\", school_bus_count)\n",
    "print(\"Кількість учнів, які користуються приватним транспортом:\", private_transport_count)"
   ]
  },
  {
   "cell_type": "code",
   "execution_count": 11,
   "id": "519fca2f",
   "metadata": {},
   "outputs": [],
   "source": [
    "from sklearn.model_selection import train_test_split\n",
    "from sklearn.linear_model import LogisticRegression\n",
    "from sklearn.metrics import accuracy_score"
   ]
  },
  {
   "cell_type": "code",
   "execution_count": 15,
   "id": "a74dc36b",
   "metadata": {},
   "outputs": [
    {
     "name": "stdout",
     "output_type": "stream",
     "text": [
      "Точність моделі: 0.7482462977396727\n"
     ]
    }
   ],
   "source": [
    "df = pd.DataFrame(data)\n",
    "\n",
    "df.dropna(inplace=True)\n",
    "\n",
    "X = df[['Gender', 'EthnicGroup', 'ParentEduc', 'LunchType', 'ParentMaritalStatus', 'PracticeSport', 'IsFirstChild', 'NrSiblings', 'TransportMeans', 'WklyStudyHours', 'MathScore', 'ReadingScore', 'WritingScore']]\n",
    "y = df['TestPrep']\n",
    "\n",
    "X = pd.get_dummies(X)\n",
    "\n",
    "X_train, X_test, y_train, y_test = train_test_split(X, y, test_size=0.2, random_state=42)\n",
    "\n",
    "model = LogisticRegression(max_iter=1000)\n",
    "\n",
    "model.fit(X_train, y_train)\n",
    "\n",
    "predictions = model.predict(X_test)\n",
    "\n",
    "accuracy = accuracy_score(y_test, predictions)\n",
    "print(\"Точність моделі:\", accuracy)"
   ]
  },
  {
   "cell_type": "code",
   "execution_count": null,
   "id": "d3966acc",
   "metadata": {},
   "outputs": [],
   "source": []
  }
 ],
 "metadata": {
  "kernelspec": {
   "display_name": "Python 3 (ipykernel)",
   "language": "python",
   "name": "python3"
  },
  "language_info": {
   "codemirror_mode": {
    "name": "ipython",
    "version": 3
   },
   "file_extension": ".py",
   "mimetype": "text/x-python",
   "name": "python",
   "nbconvert_exporter": "python",
   "pygments_lexer": "ipython3",
   "version": "3.11.5"
  }
 },
 "nbformat": 4,
 "nbformat_minor": 5
}
